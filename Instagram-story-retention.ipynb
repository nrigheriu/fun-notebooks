{
 "cells": [
  {
   "cell_type": "code",
   "execution_count": 84,
   "metadata": {},
   "outputs": [],
   "source": [
    "from selenium import webdriver\n",
    "import time\n",
    "import pandas as pd\n",
    "from selenium.common.exceptions import NoSuchElementException, StaleElementReferenceException\n",
    "from selenium import webdriver\n",
    "import pickle\n",
    "from datetime import datetime"
   ]
  },
  {
   "cell_type": "code",
   "execution_count": null,
   "metadata": {},
   "outputs": [],
   "source": [
    "#do only for first login! After, comment this part out\n",
    "driver = webdriver.Chrome()\n",
    "instagram = \"https://www.instagram.com/\"\n",
    "driver.get(instagram)"
   ]
  },
  {
   "cell_type": "markdown",
   "metadata": {},
   "source": [
    "Now login manually on your instagram account"
   ]
  },
  {
   "cell_type": "code",
   "execution_count": null,
   "metadata": {},
   "outputs": [],
   "source": [
    "#Let's save the cookies "
   ]
  },
  {
   "cell_type": "code",
   "execution_count": 82,
   "metadata": {},
   "outputs": [],
   "source": [
    "def load_profiled_browser():\n",
    "    options=webdriver.ChromeOptions()\n",
    "    options.add_argument(\"user-data-dir=/home/nicolae/.config/google-chrome\")\n",
    "    #options.add_argument('headless')\n",
    "    driver = webdriver.Chrome(options=options)\n",
    "    #pickle.dump(driver.get_cookies(), open('cookies.pkl', 'wb'))\n",
    "    cookies = pickle.load(open(\"cookies.pkl\", \"rb\"))\n",
    "    for cookie in cookies:\n",
    "        driver.add_cookie(cookie)\n",
    "    return driver "
   ]
  },
  {
   "cell_type": "code",
   "execution_count": 83,
   "metadata": {},
   "outputs": [],
   "source": [
    "instagram = \"https://www.instagram.com/\"\n",
    "driver = load_profiled_browser()\n",
    "time.sleep(3)\n",
    "driver.get(instagram)"
   ]
  },
  {
   "cell_type": "code",
   "execution_count": 79,
   "metadata": {},
   "outputs": [
    {
     "data": {
      "text/plain": [
       "[103, 98, 94]"
      ]
     },
     "execution_count": 79,
     "metadata": {},
     "output_type": "execute_result"
    }
   ],
   "source": [
    "stories_remaining = True\n",
    "try:\n",
    "    own_story = driver.find_element_by_xpath('/html/body/div[1]/section/main/section/div[3]/div[1]/div/div[1]/span/img')\n",
    "    own_story.click()\n",
    "except NoSuchElementException: \n",
    "    try:       #nested, I know, but following EAFP principle\n",
    "        own_story = driver.find_element_by_xpath('/html/body/div[1]/section/main/section/div[1]/div/div/div/div[1]/button/div[1]/span/img') \n",
    "        own_story.click()\n",
    "    except NoSuchElementException:\n",
    "        stories_remaining = False \n",
    "        print(\"no such element\")\n",
    "\n",
    "viewers = []        \n",
    "next_story_button = 1\n",
    "while stories_remaining:     #use Webdriverwait!\n",
    "    try:\n",
    "        view_count = driver.find_element_by_xpath('/html/body/div[1]/section/div/div/section/div[2]/div[3]/div[2]/button/div/span').text\n",
    "        view_count = int(view_count.split(\"Vista por\")[1])\n",
    "        viewers.append(view_count)\n",
    "        next_story = driver.find_element_by_xpath(f'/html/body/div[1]/section/div/div/section/div[2]/button[{next_story_button}]/div')\n",
    "        next_story_button = 2\n",
    "        time.sleep(1)\n",
    "        next_story.click()\n",
    "    except (NoSuchElementException, StaleElementReferenceException) as e:\n",
    "        stories_remaining = False\n",
    "viewers"
   ]
  },
  {
   "cell_type": "code",
   "execution_count": 40,
   "metadata": {},
   "outputs": [
    {
     "data": {
      "text/plain": [
       "'CDwindow-1EBA02C78BC8C79238465531396DC1AA'"
      ]
     },
     "execution_count": 40,
     "metadata": {},
     "output_type": "execute_result"
    }
   ],
   "source": [
    "pop_up"
   ]
  },
  {
   "cell_type": "code",
   "execution_count": 43,
   "metadata": {},
   "outputs": [
    {
     "data": {
      "text/plain": [
       "['CDwindow-1EBA02C78BC8C79238465531396DC1AA']"
      ]
     },
     "execution_count": 43,
     "metadata": {},
     "output_type": "execute_result"
    }
   ],
   "source": [
    "driver.window_handles"
   ]
  },
  {
   "cell_type": "code",
   "execution_count": null,
   "metadata": {},
   "outputs": [],
   "source": []
  }
 ],
 "metadata": {
  "kernelspec": {
   "display_name": "Python 3",
   "language": "python",
   "name": "python3"
  },
  "language_info": {
   "codemirror_mode": {
    "name": "ipython",
    "version": 3
   },
   "file_extension": ".py",
   "mimetype": "text/x-python",
   "name": "python",
   "nbconvert_exporter": "python",
   "pygments_lexer": "ipython3",
   "version": "3.7.3"
  }
 },
 "nbformat": 4,
 "nbformat_minor": 4
}
