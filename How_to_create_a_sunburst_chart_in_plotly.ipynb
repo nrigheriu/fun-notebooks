{
  "nbformat": 4,
  "nbformat_minor": 0,
  "metadata": {
    "colab": {
      "name": "How to create a sunburst chart in plotly.ipynb",
      "provenance": [],
      "collapsed_sections": []
    },
    "kernelspec": {
      "name": "python3",
      "display_name": "Python 3"
    }
  },
  "cells": [
    {
      "cell_type": "markdown",
      "metadata": {
        "id": "mauozgvRICBh",
        "colab_type": "text"
      },
      "source": [
        "Description of how to use and adjust this Sunburst chart.\n",
        "\n",
        "Firstly, you need to think of the labels you want and add them to the labels list below. The < b> tags are there to make the text bold, you can there's a loop written in the second code box to add this tags automatically for you.\n",
        "\n",
        " Then you want make sure they are ordered in a \"circular way\" as if you would start from the very center of the circle moving like in a spiral outwards. The center label is \"Data science\", the second layer is \"SAS, SQL, Python etc.\" and the third are the libraries like \"sklearn, pandas, Flink etc.\". For example, every label on the third layer of the circle labels list comes after the second.\n",
        "\n",
        " After you finished writing the labels you can go on to the parents. The first element is blank, the second is the center of the circle. Then, think of how many elements you're going to have on the second layer, let's say 6 like in the example below. Then you need to repeat the parent of the second layer 6 times in the list before writing any of its children. Then you go on to the second layer and it's very important that you follow the order of elements you wrote in the labels list! Write all the elements for the second layer in the order like labels and repeat them as often as many leaf 'children' they will have in the next, third layer. If an element doesn't have any children in the next layer, omit/skip it in the parents list but only go to the next element in the labels list (so keep the order) So it continues until you are finished with the last layer too, there you only need to write the elements once. \n",
        " \n",
        " In the values list make sure to have as many values as elements in the circle, the size of the 'pie' will correspond to these. Adjust this like you wish. \n",
        "\n",
        " To adjust the colors, change the col_scales variable to what you wish. Here I used up to 7 colors, as seen in the first parameter cl.scales['7']. You can find more colors of different types here: https://plot.ly/python/v3/ipython-notebooks/color-scales/\n",
        " Of course you can also change font_size and others with the update_layout function. When finished click on the top-right corner of the graph and save it to your PC."
      ]
    },
    {
      "cell_type": "code",
      "metadata": {
        "id": "Al6kYB-qeNcO",
        "colab_type": "code",
        "outputId": "73366da2-732e-4d1c-b0d4-b9d9b3ee8f2a",
        "colab": {
          "base_uri": "https://localhost:8080/",
          "height": 542
        }
      },
      "source": [
        "import plotly.graph_objects as go\n",
        "import colorlover as cl\n",
        "\n",
        "col_scales = cl.scales['7']['seq']['GnBu']\n",
        "fig =go.Figure(go.Sunburst(\n",
        "    labels = ['<b>Data science</b>', '<b>SAS, statistics</b>', '<b>SQL</b>', '<b>Javascript</b>', '<b>R</b>', '<b>Python</b>', '<b>Java</b>', '<b>GEE</b>', \n",
        "              '<b>D3js</b>', '<b>ThreeJS</b>', '<b>Shiny</b>', '<b>Leaflet</b>', '<b>rgdal</b>', '<b>sklearn</b>', '<b>pandas</b>', '<b>networkx</b>',\n",
        "              '<b>Keras (CNN)</b>', '<b>Spark</b>', '<b>Plotly</b>', '<b>Hbase</b>', '<b>Flink</b>', '<b>Weka (ML)</b>'],\n",
        "    parents = ['', '<b>Data science</b>', '<b>Data science</b>', '<b>Data science</b>', '<b>Data science</b>', '<b>Data science</b>', \n",
        "               '<b>Data science</b>', '<b>Javascript</b>', '<b>Javascript</b>', '<b>Javascript</b>', '<b>R</b>', '<b>R</b>', '<b>R</b>', '<b>Python</b>', \n",
        "               '<b>Python</b>', '<b>Python</b>', '<b>Python</b>', '<b>Python</b>', '<b>Python</b>', '<b>Java</b>', '<b>Java</b>', '<b>Java</b>', '<b>GEE</b>', \n",
        "               '<b>D3js</b>', '<b>ThreeJS</b>', '<b>Shiny</b>', '<b>Leaflet</b>', '<b>rgdal</b>', '<b>sklearn</b>', '<b>pandas</b>', '<b>networkx</b>', '<b>Keras (CNN)</b>', \n",
        "               '<b>Spark</b>', '<b>Plotly</b>', '<b>Hbase</b>', '<b>Flink</b>', '<b>Weka (ML)</b>'],   \n",
        "    values=[0, 8, 5, 2, 3, 3, 3, 2, 3, 3, 3, 5, 2, 2, 2, 3, 3, 3, 3, 5, 4, 5],\n",
        "))\n",
        "\n",
        "fig.update_layout(margin = dict(t=0, l=0, r=0, b=0), sunburstcolorway=col_scales,     font=dict(\n",
        "        #family=\"Courier New, monospace\",\n",
        "        size=18,\n",
        "    ))\n",
        "\n",
        "fig.show()"
      ],
      "execution_count": 0,
      "outputs": [
        {
          "output_type": "display_data",
          "data": {
            "text/html": [
              "<html>\n",
              "<head><meta charset=\"utf-8\" /></head>\n",
              "<body>\n",
              "    <div>\n",
              "            <script src=\"https://cdnjs.cloudflare.com/ajax/libs/mathjax/2.7.5/MathJax.js?config=TeX-AMS-MML_SVG\"></script><script type=\"text/javascript\">if (window.MathJax) {MathJax.Hub.Config({SVG: {font: \"STIX-Web\"}});}</script>\n",
              "                <script type=\"text/javascript\">window.PlotlyConfig = {MathJaxConfig: 'local'};</script>\n",
              "        <script src=\"https://cdn.plot.ly/plotly-latest.min.js\"></script>    \n",
              "            <div id=\"e6850a29-9b4f-4f01-82df-fa1f12a079c0\" class=\"plotly-graph-div\" style=\"height:525px; width:100%;\"></div>\n",
              "            <script type=\"text/javascript\">\n",
              "                \n",
              "                    window.PLOTLYENV=window.PLOTLYENV || {};\n",
              "                    \n",
              "                if (document.getElementById(\"e6850a29-9b4f-4f01-82df-fa1f12a079c0\")) {\n",
              "                    Plotly.newPlot(\n",
              "                        'e6850a29-9b4f-4f01-82df-fa1f12a079c0',\n",
              "                        [{\"labels\": [\"<b>Data science</b>\", \"<b>SAS, statistics</b>\", \"<b>SQL</b>\", \"<b>Javascript</b>\", \"<b>R</b>\", \"<b>Python</b>\", \"<b>Java</b>\", \"<b>GEE</b>\", \"<b>D3js</b>\", \"<b>ThreeJS</b>\", \"<b>Shiny</b>\", \"<b>Leaflet</b>\", \"<b>rgdal</b>\", \"<b>sklearn</b>\", \"<b>pandas</b>\", \"<b>networkx</b>\", \"<b>Keras (CNN)</b>\", \"<b>Spark</b>\", \"<b>Plotly</b>\", \"<b>Hbase</b>\", \"<b>Flink</b>\", \"<b>Weka (ML)</b>\"], \"parents\": [\"\", \"<b>Data science</b>\", \"<b>Data science</b>\", \"<b>Data science</b>\", \"<b>Data science</b>\", \"<b>Data science</b>\", \"<b>Data science</b>\", \"<b>Javascript</b>\", \"<b>Javascript</b>\", \"<b>Javascript</b>\", \"<b>R</b>\", \"<b>R</b>\", \"<b>R</b>\", \"<b>Python</b>\", \"<b>Python</b>\", \"<b>Python</b>\", \"<b>Python</b>\", \"<b>Python</b>\", \"<b>Python</b>\", \"<b>Java</b>\", \"<b>Java</b>\", \"<b>Java</b>\", \"<b>GEE</b>\", \"<b>D3js</b>\", \"<b>ThreeJS</b>\", \"<b>Shiny</b>\", \"<b>Leaflet</b>\", \"<b>rgdal</b>\", \"<b>sklearn</b>\", \"<b>pandas</b>\", \"<b>networkx</b>\", \"<b>Keras (CNN)</b>\", \"<b>Spark</b>\", \"<b>Plotly</b>\", \"<b>Hbase</b>\", \"<b>Flink</b>\", \"<b>Weka (ML)</b>\"], \"type\": \"sunburst\", \"values\": [0, 8, 5, 2, 3, 3, 3, 2, 3, 3, 3, 5, 2, 2, 2, 3, 3, 3, 3, 5, 4, 5]}],\n",
              "                        {\"font\": {\"size\": 18}, \"margin\": {\"b\": 0, \"l\": 0, \"r\": 0, \"t\": 0}, \"sunburstcolorway\": [\"rgb(240,249,232)\", \"rgb(204,235,197)\", \"rgb(168,221,181)\", \"rgb(123,204,196)\", \"rgb(78,179,211)\", \"rgb(43,140,190)\", \"rgb(8,88,158)\"], \"template\": {\"data\": {\"bar\": [{\"error_x\": {\"color\": \"#2a3f5f\"}, \"error_y\": {\"color\": \"#2a3f5f\"}, \"marker\": {\"line\": {\"color\": \"#E5ECF6\", \"width\": 0.5}}, \"type\": \"bar\"}], \"barpolar\": [{\"marker\": {\"line\": {\"color\": \"#E5ECF6\", \"width\": 0.5}}, \"type\": \"barpolar\"}], \"carpet\": [{\"aaxis\": {\"endlinecolor\": \"#2a3f5f\", \"gridcolor\": \"white\", \"linecolor\": \"white\", \"minorgridcolor\": \"white\", \"startlinecolor\": \"#2a3f5f\"}, \"baxis\": {\"endlinecolor\": \"#2a3f5f\", \"gridcolor\": \"white\", \"linecolor\": \"white\", \"minorgridcolor\": \"white\", \"startlinecolor\": \"#2a3f5f\"}, \"type\": \"carpet\"}], \"choropleth\": [{\"colorbar\": {\"outlinewidth\": 0, \"ticks\": \"\"}, \"type\": \"choropleth\"}], \"contour\": [{\"colorbar\": {\"outlinewidth\": 0, \"ticks\": \"\"}, \"colorscale\": [[0.0, \"#0d0887\"], [0.1111111111111111, \"#46039f\"], [0.2222222222222222, \"#7201a8\"], [0.3333333333333333, \"#9c179e\"], [0.4444444444444444, \"#bd3786\"], [0.5555555555555556, \"#d8576b\"], [0.6666666666666666, \"#ed7953\"], [0.7777777777777778, \"#fb9f3a\"], [0.8888888888888888, \"#fdca26\"], [1.0, \"#f0f921\"]], \"type\": \"contour\"}], \"contourcarpet\": [{\"colorbar\": {\"outlinewidth\": 0, \"ticks\": \"\"}, \"type\": \"contourcarpet\"}], \"heatmap\": [{\"colorbar\": {\"outlinewidth\": 0, \"ticks\": \"\"}, \"colorscale\": [[0.0, \"#0d0887\"], [0.1111111111111111, \"#46039f\"], [0.2222222222222222, \"#7201a8\"], [0.3333333333333333, \"#9c179e\"], [0.4444444444444444, \"#bd3786\"], [0.5555555555555556, \"#d8576b\"], [0.6666666666666666, \"#ed7953\"], [0.7777777777777778, \"#fb9f3a\"], [0.8888888888888888, \"#fdca26\"], [1.0, \"#f0f921\"]], \"type\": \"heatmap\"}], \"heatmapgl\": [{\"colorbar\": {\"outlinewidth\": 0, \"ticks\": \"\"}, \"colorscale\": [[0.0, \"#0d0887\"], [0.1111111111111111, \"#46039f\"], [0.2222222222222222, \"#7201a8\"], [0.3333333333333333, \"#9c179e\"], [0.4444444444444444, \"#bd3786\"], [0.5555555555555556, \"#d8576b\"], [0.6666666666666666, \"#ed7953\"], [0.7777777777777778, \"#fb9f3a\"], [0.8888888888888888, \"#fdca26\"], [1.0, \"#f0f921\"]], \"type\": \"heatmapgl\"}], \"histogram\": [{\"marker\": {\"colorbar\": {\"outlinewidth\": 0, \"ticks\": \"\"}}, \"type\": \"histogram\"}], \"histogram2d\": [{\"colorbar\": {\"outlinewidth\": 0, \"ticks\": \"\"}, \"colorscale\": [[0.0, \"#0d0887\"], [0.1111111111111111, \"#46039f\"], [0.2222222222222222, \"#7201a8\"], [0.3333333333333333, \"#9c179e\"], [0.4444444444444444, \"#bd3786\"], [0.5555555555555556, \"#d8576b\"], [0.6666666666666666, \"#ed7953\"], [0.7777777777777778, \"#fb9f3a\"], [0.8888888888888888, \"#fdca26\"], [1.0, \"#f0f921\"]], \"type\": \"histogram2d\"}], \"histogram2dcontour\": [{\"colorbar\": {\"outlinewidth\": 0, \"ticks\": \"\"}, \"colorscale\": [[0.0, \"#0d0887\"], [0.1111111111111111, \"#46039f\"], [0.2222222222222222, \"#7201a8\"], [0.3333333333333333, \"#9c179e\"], [0.4444444444444444, \"#bd3786\"], [0.5555555555555556, \"#d8576b\"], [0.6666666666666666, \"#ed7953\"], [0.7777777777777778, \"#fb9f3a\"], [0.8888888888888888, \"#fdca26\"], [1.0, \"#f0f921\"]], \"type\": \"histogram2dcontour\"}], \"mesh3d\": [{\"colorbar\": {\"outlinewidth\": 0, \"ticks\": \"\"}, \"type\": \"mesh3d\"}], \"parcoords\": [{\"line\": {\"colorbar\": {\"outlinewidth\": 0, \"ticks\": \"\"}}, \"type\": \"parcoords\"}], \"pie\": [{\"automargin\": true, \"type\": \"pie\"}], \"scatter\": [{\"marker\": {\"colorbar\": {\"outlinewidth\": 0, \"ticks\": \"\"}}, \"type\": \"scatter\"}], \"scatter3d\": [{\"line\": {\"colorbar\": {\"outlinewidth\": 0, \"ticks\": \"\"}}, \"marker\": {\"colorbar\": {\"outlinewidth\": 0, \"ticks\": \"\"}}, \"type\": \"scatter3d\"}], \"scattercarpet\": [{\"marker\": {\"colorbar\": {\"outlinewidth\": 0, \"ticks\": \"\"}}, \"type\": \"scattercarpet\"}], \"scattergeo\": [{\"marker\": {\"colorbar\": {\"outlinewidth\": 0, \"ticks\": \"\"}}, \"type\": \"scattergeo\"}], \"scattergl\": [{\"marker\": {\"colorbar\": {\"outlinewidth\": 0, \"ticks\": \"\"}}, \"type\": \"scattergl\"}], \"scattermapbox\": [{\"marker\": {\"colorbar\": {\"outlinewidth\": 0, \"ticks\": \"\"}}, \"type\": \"scattermapbox\"}], \"scatterpolar\": [{\"marker\": {\"colorbar\": {\"outlinewidth\": 0, \"ticks\": \"\"}}, \"type\": \"scatterpolar\"}], \"scatterpolargl\": [{\"marker\": {\"colorbar\": {\"outlinewidth\": 0, \"ticks\": \"\"}}, \"type\": \"scatterpolargl\"}], \"scatterternary\": [{\"marker\": {\"colorbar\": {\"outlinewidth\": 0, \"ticks\": \"\"}}, \"type\": \"scatterternary\"}], \"surface\": [{\"colorbar\": {\"outlinewidth\": 0, \"ticks\": \"\"}, \"colorscale\": [[0.0, \"#0d0887\"], [0.1111111111111111, \"#46039f\"], [0.2222222222222222, \"#7201a8\"], [0.3333333333333333, \"#9c179e\"], [0.4444444444444444, \"#bd3786\"], [0.5555555555555556, \"#d8576b\"], [0.6666666666666666, \"#ed7953\"], [0.7777777777777778, \"#fb9f3a\"], [0.8888888888888888, \"#fdca26\"], [1.0, \"#f0f921\"]], \"type\": \"surface\"}], \"table\": [{\"cells\": {\"fill\": {\"color\": \"#EBF0F8\"}, \"line\": {\"color\": \"white\"}}, \"header\": {\"fill\": {\"color\": \"#C8D4E3\"}, \"line\": {\"color\": \"white\"}}, \"type\": \"table\"}]}, \"layout\": {\"annotationdefaults\": {\"arrowcolor\": \"#2a3f5f\", \"arrowhead\": 0, \"arrowwidth\": 1}, \"coloraxis\": {\"colorbar\": {\"outlinewidth\": 0, \"ticks\": \"\"}}, \"colorscale\": {\"diverging\": [[0, \"#8e0152\"], [0.1, \"#c51b7d\"], [0.2, \"#de77ae\"], [0.3, \"#f1b6da\"], [0.4, \"#fde0ef\"], [0.5, \"#f7f7f7\"], [0.6, \"#e6f5d0\"], [0.7, \"#b8e186\"], [0.8, \"#7fbc41\"], [0.9, \"#4d9221\"], [1, \"#276419\"]], \"sequential\": [[0.0, \"#0d0887\"], [0.1111111111111111, \"#46039f\"], [0.2222222222222222, \"#7201a8\"], [0.3333333333333333, \"#9c179e\"], [0.4444444444444444, \"#bd3786\"], [0.5555555555555556, \"#d8576b\"], [0.6666666666666666, \"#ed7953\"], [0.7777777777777778, \"#fb9f3a\"], [0.8888888888888888, \"#fdca26\"], [1.0, \"#f0f921\"]], \"sequentialminus\": [[0.0, \"#0d0887\"], [0.1111111111111111, \"#46039f\"], [0.2222222222222222, \"#7201a8\"], [0.3333333333333333, \"#9c179e\"], [0.4444444444444444, \"#bd3786\"], [0.5555555555555556, \"#d8576b\"], [0.6666666666666666, \"#ed7953\"], [0.7777777777777778, \"#fb9f3a\"], [0.8888888888888888, \"#fdca26\"], [1.0, \"#f0f921\"]]}, \"colorway\": [\"#636efa\", \"#EF553B\", \"#00cc96\", \"#ab63fa\", \"#FFA15A\", \"#19d3f3\", \"#FF6692\", \"#B6E880\", \"#FF97FF\", \"#FECB52\"], \"font\": {\"color\": \"#2a3f5f\"}, \"geo\": {\"bgcolor\": \"white\", \"lakecolor\": \"white\", \"landcolor\": \"#E5ECF6\", \"showlakes\": true, \"showland\": true, \"subunitcolor\": \"white\"}, \"hoverlabel\": {\"align\": \"left\"}, \"hovermode\": \"closest\", \"mapbox\": {\"style\": \"light\"}, \"paper_bgcolor\": \"white\", \"plot_bgcolor\": \"#E5ECF6\", \"polar\": {\"angularaxis\": {\"gridcolor\": \"white\", \"linecolor\": \"white\", \"ticks\": \"\"}, \"bgcolor\": \"#E5ECF6\", \"radialaxis\": {\"gridcolor\": \"white\", \"linecolor\": \"white\", \"ticks\": \"\"}}, \"scene\": {\"xaxis\": {\"backgroundcolor\": \"#E5ECF6\", \"gridcolor\": \"white\", \"gridwidth\": 2, \"linecolor\": \"white\", \"showbackground\": true, \"ticks\": \"\", \"zerolinecolor\": \"white\"}, \"yaxis\": {\"backgroundcolor\": \"#E5ECF6\", \"gridcolor\": \"white\", \"gridwidth\": 2, \"linecolor\": \"white\", \"showbackground\": true, \"ticks\": \"\", \"zerolinecolor\": \"white\"}, \"zaxis\": {\"backgroundcolor\": \"#E5ECF6\", \"gridcolor\": \"white\", \"gridwidth\": 2, \"linecolor\": \"white\", \"showbackground\": true, \"ticks\": \"\", \"zerolinecolor\": \"white\"}}, \"shapedefaults\": {\"line\": {\"color\": \"#2a3f5f\"}}, \"ternary\": {\"aaxis\": {\"gridcolor\": \"white\", \"linecolor\": \"white\", \"ticks\": \"\"}, \"baxis\": {\"gridcolor\": \"white\", \"linecolor\": \"white\", \"ticks\": \"\"}, \"bgcolor\": \"#E5ECF6\", \"caxis\": {\"gridcolor\": \"white\", \"linecolor\": \"white\", \"ticks\": \"\"}}, \"title\": {\"x\": 0.05}, \"xaxis\": {\"automargin\": true, \"gridcolor\": \"white\", \"linecolor\": \"white\", \"ticks\": \"\", \"title\": {\"standoff\": 15}, \"zerolinecolor\": \"white\", \"zerolinewidth\": 2}, \"yaxis\": {\"automargin\": true, \"gridcolor\": \"white\", \"linecolor\": \"white\", \"ticks\": \"\", \"title\": {\"standoff\": 15}, \"zerolinecolor\": \"white\", \"zerolinewidth\": 2}}}},\n",
              "                        {\"responsive\": true}\n",
              "                    ).then(function(){\n",
              "                            \n",
              "var gd = document.getElementById('e6850a29-9b4f-4f01-82df-fa1f12a079c0');\n",
              "var x = new MutationObserver(function (mutations, observer) {{\n",
              "        var display = window.getComputedStyle(gd).display;\n",
              "        if (!display || display === 'none') {{\n",
              "            console.log([gd, 'removed!']);\n",
              "            Plotly.purge(gd);\n",
              "            observer.disconnect();\n",
              "        }}\n",
              "}});\n",
              "\n",
              "// Listen for the removal of the full notebook cells\n",
              "var notebookContainer = gd.closest('#notebook-container');\n",
              "if (notebookContainer) {{\n",
              "    x.observe(notebookContainer, {childList: true});\n",
              "}}\n",
              "\n",
              "// Listen for the clearing of the current output cell\n",
              "var outputEl = gd.closest('.output');\n",
              "if (outputEl) {{\n",
              "    x.observe(outputEl, {childList: true});\n",
              "}}\n",
              "\n",
              "                        })\n",
              "                };\n",
              "                \n",
              "            </script>\n",
              "        </div>\n",
              "</body>\n",
              "</html>"
            ]
          },
          "metadata": {
            "tags": []
          }
        }
      ]
    },
    {
      "cell_type": "code",
      "metadata": {
        "id": "j_-ctMKEKhmo",
        "colab_type": "code",
        "outputId": "3d21eb65-d496-45bb-ca94-939bc0c90d49",
        "colab": {
          "base_uri": "https://localhost:8080/",
          "height": 72
        }
      },
      "source": [
        "labels=[\"Data science\", \"SAS, statistics\", \"SQL\", \"Javascript\", \"R\",  \"Python\", \"Java\", \"GEE\", \"D3js\", \"ThreeJS\", \"Shiny\", \"Leaflet\", \"rgdal\", \n",
        "        \"sklearn\", \"pandas\", \"networkx\", \"Keras (CNN)\", \"Spark\", \"Plotly\", \"Hbase\", \"Flink\", \"Weka (ML)\"]\n",
        "parents=[\"\", \"Data science\", \"Data science\", \"Data science\", \"Data science\", \"Data science\", \"Data science\",  \"Javascript\", \"Javascript\",  \"Javascript\", \"R\", \"R\", \"R\", \n",
        "          \"Python\", \"Python\", \"Python\", \"Python\", \"Python\", \"Python\", \"Java\", \"Java\", \"Java\", \"GEE\", \"D3js\", \"ThreeJS\", \"Shiny\", \"Leaflet\", \"rgdal\", \"sklearn\", \"pandas\",\n",
        "          \"networkx\", \"Keras (CNN)\", \"Spark\", \"Plotly\", \"Hbase\", \"Flink\", \"Weka (ML)\"]\n",
        "for i in range(len(labels)):\n",
        "  labels [i] = \"<b>\" + labels[i] + \"</b>\"\n",
        "print(labels)\n",
        "for i in range(1, len(parents)):\n",
        "  parents [i] = \"<b>\" + parents[i] + \"</b>\"\n",
        "print(parents)"
      ],
      "execution_count": 0,
      "outputs": [
        {
          "output_type": "stream",
          "text": [
            "['<b>Data science</b>', '<b>SAS, statistics</b>', '<b>SQL</b>', '<b>Javascript</b>', '<b>R</b>', '<b>Python</b>', '<b>Java</b>', '<b>GEE</b>', '<b>D3js</b>', '<b>ThreeJS</b>', '<b>Shiny</b>', '<b>Leaflet</b>', '<b>rgdal</b>', '<b>sklearn</b>', '<b>pandas</b>', '<b>networkx</b>', '<b>Keras (CNN)</b>', '<b>Spark</b>', '<b>Plotly</b>', '<b>Hbase</b>', '<b>Flink</b>', '<b>Weka (ML)</b>']\n",
            "['<b></b>', '<b>Data science</b>', '<b>Data science</b>', '<b>Data science</b>', '<b>Data science</b>', '<b>Data science</b>', '<b>Data science</b>', '<b>Javascript</b>', '<b>Javascript</b>', '<b>Javascript</b>', '<b>R</b>', '<b>R</b>', '<b>R</b>', '<b>Python</b>', '<b>Python</b>', '<b>Python</b>', '<b>Python</b>', '<b>Python</b>', '<b>Python</b>', '<b>Java</b>', '<b>Java</b>', '<b>Java</b>', '<b>GEE</b>', '<b>D3js</b>', '<b>ThreeJS</b>', '<b>Shiny</b>', '<b>Leaflet</b>', '<b>rgdal</b>', '<b>sklearn</b>', '<b>pandas</b>', '<b>networkx</b>', '<b>Keras (CNN)</b>', '<b>Spark</b>', '<b>Plotly</b>', '<b>Hbase</b>', '<b>Flink</b>', '<b>Weka (ML)</b>']\n"
          ],
          "name": "stdout"
        }
      ]
    }
  ]
}